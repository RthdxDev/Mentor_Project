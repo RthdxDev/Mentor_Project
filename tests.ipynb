{
 "cells": [
  {
   "cell_type": "code",
   "execution_count": 1,
   "id": "1bf64e5f",
   "metadata": {},
   "outputs": [],
   "source": [
    "import numpy as np\n",
    "import scipy as sp\n",
    "import galois\n",
    "from wiedeman_solver import WiedemanSolver\n",
    "from tqdm import tqdm\n",
    "from datetime import datetime"
   ]
  },
  {
   "cell_type": "code",
   "execution_count": 2,
   "id": "743ed22e",
   "metadata": {},
   "outputs": [],
   "source": [
    "rng = np.random.default_rng(42)"
   ]
  },
  {
   "cell_type": "code",
   "execution_count": 3,
   "id": "f7223b4b",
   "metadata": {},
   "outputs": [],
   "source": [
    "solver = WiedemanSolver(3)"
   ]
  },
  {
   "cell_type": "code",
   "execution_count": 4,
   "id": "1d7aab8f",
   "metadata": {},
   "outputs": [],
   "source": [
    "modulus = solver.modulus\n",
    "field = solver.field"
   ]
  },
  {
   "cell_type": "code",
   "execution_count": 5,
   "id": "94aaaaa9",
   "metadata": {},
   "outputs": [],
   "source": [
    "def generate_non_singular_sparse_matrix(n, density=0.5):\n",
    "    A = sp.sparse.random(n, n, density=density, format='csr', dtype=int, rng=rng)\n",
    "    A = sp.sparse.csr_matrix(A.toarray() % modulus)\n",
    "    while np.linalg.det(A.toarray().view(field)) == 0:\n",
    "        A = sp.sparse.random(n, n, density=density, format='csr', dtype=int, rng=rng)\n",
    "        A = sp.sparse.csr_matrix(A.toarray() % modulus)\n",
    "    return A"
   ]
  },
  {
   "cell_type": "code",
   "execution_count": 6,
   "id": "7f3468d7",
   "metadata": {},
   "outputs": [],
   "source": [
    "def generate_sparse_matrix(n: int, m: int, density: float):\n",
    "    entries_number = n * m\n",
    "    nnz = int(entries_number * density)\n",
    "    rows = np.random.choice(n, size=nnz)\n",
    "    cols = np.random.choice(m, size=nnz)\n",
    "    data = np.random.randint(1, 3, size=nnz)\n",
    "    M = sp.sparse.coo_matrix((data, (rows, cols)), shape=(n, m))\n",
    "    return sp.sparse.csr_matrix(M)"
   ]
  },
  {
   "cell_type": "code",
   "execution_count": 11,
   "id": "d0af09e3",
   "metadata": {},
   "outputs": [],
   "source": [
    "epochs = 10"
   ]
  },
  {
   "cell_type": "markdown",
   "id": "cd143680",
   "metadata": {},
   "source": [
    "## Full rank"
   ]
  },
  {
   "cell_type": "markdown",
   "id": "f40173a0",
   "metadata": {},
   "source": [
    "### 500x500"
   ]
  },
  {
   "cell_type": "code",
   "execution_count": 12,
   "id": "fdeb68cd",
   "metadata": {},
   "outputs": [
    {
     "name": "stderr",
     "output_type": "stream",
     "text": [
      "100%|██████████| 10/10 [00:06<00:00,  1.53it/s]\n"
     ]
    }
   ],
   "source": [
    "n = 500\n",
    "density = 0.3\n",
    "iterations = []\n",
    "times = []\n",
    "for _ in tqdm(range(epochs)):\n",
    "    A = generate_non_singular_sparse_matrix(n, density=0.5)\n",
    "    b = field.Random(n)\n",
    "    time = datetime.now()\n",
    "    x, _ = solver.wiedeman_singular(A, b, verbose=False)\n",
    "    times.append((datetime.now() - time).total_seconds())\n",
    "    if not np.all(solver.matvec(A, x) == b):\n",
    "        print(\"Fail!\")\n",
    "        break\n",
    "    iterations.append(solver.k)"
   ]
  },
  {
   "cell_type": "code",
   "execution_count": 13,
   "id": "3b612c9d",
   "metadata": {},
   "outputs": [
    {
     "name": "stdout",
     "output_type": "stream",
     "text": [
      "[1, 1, 1, 1, 2, 1, 1, 1, 2, 1]\n",
      "1.2\n",
      "0.142\n"
     ]
    }
   ],
   "source": [
    "print(iterations)\n",
    "print(sum(iterations) / 10)\n",
    "print(round(sum(times) / 10, 3))"
   ]
  },
  {
   "cell_type": "markdown",
   "id": "0eadea83",
   "metadata": {},
   "source": [
    "### 1000x1000"
   ]
  },
  {
   "cell_type": "code",
   "execution_count": 14,
   "id": "2c409b5c",
   "metadata": {},
   "outputs": [
    {
     "name": "stderr",
     "output_type": "stream",
     "text": [
      "100%|██████████| 10/10 [00:45<00:00,  4.52s/it]\n"
     ]
    }
   ],
   "source": [
    "n = 1000\n",
    "density = 0.3\n",
    "iterations = []\n",
    "times = []\n",
    "for _ in tqdm(range(epochs)):\n",
    "    A = generate_non_singular_sparse_matrix(n, density=0.5)\n",
    "    b = field.Random(n)\n",
    "    time = datetime.now()\n",
    "    x, _ = solver.wiedeman_singular(A, b, verbose=False)\n",
    "    times.append((datetime.now() - time).total_seconds())\n",
    "    if not np.all(solver.matvec(A, x) == b):\n",
    "        print(\"Fail!\")\n",
    "        break\n",
    "    iterations.append(solver.k)"
   ]
  },
  {
   "cell_type": "code",
   "execution_count": 15,
   "id": "7cbf1412",
   "metadata": {},
   "outputs": [
    {
     "name": "stdout",
     "output_type": "stream",
     "text": [
      "[1, 2, 2, 1, 1, 1, 1, 2, 1, 1]\n",
      "1.3\n",
      "0.699\n"
     ]
    }
   ],
   "source": [
    "print(iterations)\n",
    "print(sum(iterations) / 10)\n",
    "print(round(sum(times) / 10, 3))"
   ]
  },
  {
   "cell_type": "markdown",
   "id": "076f8d1c",
   "metadata": {},
   "source": [
    "## Singular, but RHS in image"
   ]
  },
  {
   "cell_type": "markdown",
   "id": "7b6c740d",
   "metadata": {},
   "source": [
    "## Rank <= 1000"
   ]
  },
  {
   "cell_type": "markdown",
   "id": "9eee60fa",
   "metadata": {},
   "source": [
    "#### Density = 0.5"
   ]
  },
  {
   "cell_type": "code",
   "execution_count": 16,
   "id": "a2279017",
   "metadata": {},
   "outputs": [
    {
     "name": "stderr",
     "output_type": "stream",
     "text": [
      "100%|██████████| 10/10 [00:34<00:00,  3.42s/it]\n"
     ]
    }
   ],
   "source": [
    "n = 1000\n",
    "m = 1000\n",
    "density = 0.5\n",
    "iterations = []\n",
    "times = []\n",
    "for _ in tqdm(range(epochs)):\n",
    "    M = generate_sparse_matrix(n, m, density)\n",
    "    A = M @ M.T\n",
    "    x = field.Random(A.shape[1])\n",
    "    b = solver.matvec(A, x)\n",
    "    time = datetime.now()\n",
    "    x_, _ = solver.wiedeman_singular(A, b, verbose=False)\n",
    "    times.append((datetime.now() - time).total_seconds())\n",
    "    if not np.all(solver.matvec(A, x_) == b):\n",
    "        print(\"Fail!\")\n",
    "        break\n",
    "    iterations.append(solver.k)"
   ]
  },
  {
   "cell_type": "code",
   "execution_count": 17,
   "id": "509505cf",
   "metadata": {},
   "outputs": [
    {
     "name": "stdout",
     "output_type": "stream",
     "text": [
      "[1, 1, 2, 2, 1, 3, 1, 1, 2, 2]\n",
      "1.6\n",
      "3.224\n"
     ]
    }
   ],
   "source": [
    "print(iterations)\n",
    "print(sum(iterations) / 10)\n",
    "print(round(sum(times) / 10, 3))"
   ]
  },
  {
   "cell_type": "markdown",
   "id": "97bfd1ae",
   "metadata": {},
   "source": [
    "#### Density = 0.3"
   ]
  },
  {
   "cell_type": "code",
   "execution_count": 18,
   "id": "89ec2b5b",
   "metadata": {},
   "outputs": [
    {
     "name": "stderr",
     "output_type": "stream",
     "text": [
      "100%|██████████| 10/10 [00:32<00:00,  3.27s/it]\n"
     ]
    }
   ],
   "source": [
    "n = 1000\n",
    "m = 1000\n",
    "density = 0.3\n",
    "iterations = []\n",
    "times = []\n",
    "for _ in tqdm(range(epochs)):\n",
    "    M = generate_sparse_matrix(n, m, density)\n",
    "    A = M @ M.T\n",
    "    x = field.Random(A.shape[1])\n",
    "    b = solver.matvec(A, x)\n",
    "    time = datetime.now()\n",
    "    x_, _ = solver.wiedeman_singular(A, b, verbose=False)\n",
    "    times.append((datetime.now() - time).total_seconds()) \n",
    "    if not np.all(solver.matvec(A, x_) == b):\n",
    "        print(\"Fail!\")\n",
    "        break\n",
    "    iterations.append(solver.k)"
   ]
  },
  {
   "cell_type": "code",
   "execution_count": 19,
   "id": "81048891",
   "metadata": {},
   "outputs": [
    {
     "name": "stdout",
     "output_type": "stream",
     "text": [
      "[3, 1, 1, 1, 1, 1, 2, 1, 1, 1]\n",
      "1.3\n",
      "3.163\n"
     ]
    }
   ],
   "source": [
    "print(iterations)\n",
    "print(sum(iterations) / 10)\n",
    "print(round(sum(times) / 10, 3))"
   ]
  },
  {
   "cell_type": "markdown",
   "id": "bae63432",
   "metadata": {},
   "source": [
    "#### Density = 0.1"
   ]
  },
  {
   "cell_type": "code",
   "execution_count": 20,
   "id": "35543a58",
   "metadata": {},
   "outputs": [
    {
     "name": "stderr",
     "output_type": "stream",
     "text": [
      "100%|██████████| 10/10 [00:31<00:00,  3.16s/it]\n"
     ]
    }
   ],
   "source": [
    "n = 1000\n",
    "m = 1000\n",
    "density = 0.1\n",
    "iterations = []\n",
    "times = []\n",
    "for _ in tqdm(range(epochs)):\n",
    "    M = generate_sparse_matrix(n, m, density)\n",
    "    A = M @ M.T\n",
    "    x = field.Random(A.shape[1])\n",
    "    b = solver.matvec(A, x)\n",
    "    time = datetime.now()\n",
    "    x_, _ = solver.wiedeman_singular(A, b, verbose=False)\n",
    "    times.append((datetime.now() - time).total_seconds())\n",
    "    if not np.all(solver.matvec(A, x_) == b):\n",
    "        print(\"Fail!\")\n",
    "        break\n",
    "    iterations.append(solver.k)"
   ]
  },
  {
   "cell_type": "code",
   "execution_count": 21,
   "id": "e523bc2c",
   "metadata": {},
   "outputs": [
    {
     "name": "stdout",
     "output_type": "stream",
     "text": [
      "[1, 1, 1, 1, 1, 1, 1, 1, 1, 2]\n",
      "1.1\n",
      "3.121\n"
     ]
    }
   ],
   "source": [
    "print(iterations)\n",
    "print(sum(iterations) / 10)\n",
    "print(round(sum(times) / 10, 3))"
   ]
  },
  {
   "cell_type": "markdown",
   "id": "7a619da2",
   "metadata": {},
   "source": [
    "## Rank <= 500"
   ]
  },
  {
   "cell_type": "markdown",
   "id": "957831fa",
   "metadata": {},
   "source": [
    "### Density = 0.5"
   ]
  },
  {
   "cell_type": "code",
   "execution_count": 22,
   "id": "54554d88",
   "metadata": {},
   "outputs": [
    {
     "name": "stderr",
     "output_type": "stream",
     "text": [
      "100%|██████████| 10/10 [00:46<00:00,  4.68s/it]\n"
     ]
    }
   ],
   "source": [
    "n = 1000\n",
    "m = 500\n",
    "density = 0.5\n",
    "iterations = []\n",
    "times = []\n",
    "for _ in tqdm(range(epochs)):\n",
    "    M = generate_sparse_matrix(n, m, density)\n",
    "    A = M @ M.T\n",
    "    x = field.Random(A.shape[1])\n",
    "    b = solver.matvec(A, x)\n",
    "    time = datetime.now()\n",
    "    x_, _ = solver.wiedeman_singular(A, b, verbose=False)\n",
    "    times.append((datetime.now() - time).total_seconds())\n",
    "    if not np.all(solver.matvec(A, x_) == b):\n",
    "        print(\"Fail!\")\n",
    "        break\n",
    "    iterations.append(solver.k)"
   ]
  },
  {
   "cell_type": "code",
   "execution_count": 23,
   "id": "b7407d73",
   "metadata": {},
   "outputs": [
    {
     "name": "stdout",
     "output_type": "stream",
     "text": [
      "[1, 1, 1, 3, 1, 1, 5, 1, 1, 2]\n",
      "1.7\n",
      "4.578\n"
     ]
    }
   ],
   "source": [
    "print(iterations)\n",
    "print(sum(iterations) / 10)\n",
    "print(round(sum(times) / 10, 3))"
   ]
  },
  {
   "cell_type": "markdown",
   "id": "a9a221d0",
   "metadata": {},
   "source": [
    "### Density = 0.3"
   ]
  },
  {
   "cell_type": "code",
   "execution_count": 24,
   "id": "511212c6",
   "metadata": {},
   "outputs": [
    {
     "name": "stderr",
     "output_type": "stream",
     "text": [
      "100%|██████████| 10/10 [00:44<00:00,  4.40s/it]\n"
     ]
    }
   ],
   "source": [
    "n = 1000\n",
    "m = 500\n",
    "density = 0.3\n",
    "iterations = []\n",
    "times = []\n",
    "for _ in tqdm(range(epochs)):\n",
    "    M = generate_sparse_matrix(n, m, density)\n",
    "    A = M @ M.T\n",
    "    x = field.Random(A.shape[1])\n",
    "    b = solver.matvec(A, x)\n",
    "    time = datetime.now()\n",
    "    x_, _ = solver.wiedeman_singular(A, b, verbose=False)\n",
    "    times.append((datetime.now() - time).total_seconds())\n",
    "    if not np.all(solver.matvec(A, x_) == b):\n",
    "        print(\"Fail!\")\n",
    "        break\n",
    "    iterations.append(solver.k)"
   ]
  },
  {
   "cell_type": "code",
   "execution_count": 25,
   "id": "90371516",
   "metadata": {},
   "outputs": [
    {
     "name": "stdout",
     "output_type": "stream",
     "text": [
      "[1, 1, 1, 1, 4, 2, 1, 1, 1, 1]\n",
      "1.4\n",
      "4.341\n"
     ]
    }
   ],
   "source": [
    "print(iterations)\n",
    "print(sum(iterations) / 10)\n",
    "print(round(sum(times) / 10, 3))"
   ]
  },
  {
   "cell_type": "markdown",
   "id": "3f55ac22",
   "metadata": {},
   "source": [
    "### Density = 0.1"
   ]
  },
  {
   "cell_type": "code",
   "execution_count": 26,
   "id": "3d710922",
   "metadata": {},
   "outputs": [
    {
     "name": "stderr",
     "output_type": "stream",
     "text": [
      "100%|██████████| 10/10 [00:36<00:00,  3.60s/it]\n"
     ]
    }
   ],
   "source": [
    "n = 1000\n",
    "m = 500\n",
    "density = 0.1\n",
    "iterations = []\n",
    "times = []\n",
    "for _ in tqdm(range(epochs)):\n",
    "    M = generate_sparse_matrix(n, m, density)\n",
    "    A = M @ M.T\n",
    "    x = field.Random(A.shape[1])\n",
    "    b = solver.matvec(A, x)\n",
    "    time = datetime.now()\n",
    "    x_, _ = solver.wiedeman_singular(A, b, verbose=False)\n",
    "    times.append((datetime.now() - time).total_seconds())\n",
    "    if not np.all(solver.matvec(A, x_) == b):\n",
    "        print(\"Fail!\")\n",
    "        break\n",
    "    iterations.append(solver.k)"
   ]
  },
  {
   "cell_type": "code",
   "execution_count": 27,
   "id": "bfc8619d",
   "metadata": {},
   "outputs": [
    {
     "name": "stdout",
     "output_type": "stream",
     "text": [
      "[1, 1, 2, 2, 1, 1, 1, 2, 1, 3]\n",
      "1.5\n",
      "3.574\n"
     ]
    }
   ],
   "source": [
    "print(iterations)\n",
    "print(sum(iterations) / 10)\n",
    "print(round(sum(times) / 10, 3))"
   ]
  },
  {
   "cell_type": "markdown",
   "id": "5784f909",
   "metadata": {},
   "source": [
    "## Rank <= 100"
   ]
  },
  {
   "cell_type": "markdown",
   "id": "a984a5d2",
   "metadata": {},
   "source": [
    "### Density = 0.5"
   ]
  },
  {
   "cell_type": "code",
   "execution_count": 28,
   "id": "7984fef4",
   "metadata": {},
   "outputs": [
    {
     "name": "stderr",
     "output_type": "stream",
     "text": [
      "100%|██████████| 10/10 [00:43<00:00,  4.38s/it]\n"
     ]
    }
   ],
   "source": [
    "n = 1000\n",
    "m = 100\n",
    "density = 0.5\n",
    "iterations = []\n",
    "times = []\n",
    "for _ in tqdm(range(epochs)):\n",
    "    M = generate_sparse_matrix(n, m, density)\n",
    "    A = M @ M.T\n",
    "    x = field.Random(A.shape[1])\n",
    "    b = solver.matvec(A, x)\n",
    "    time = datetime.now()\n",
    "    x_, _ = solver.wiedeman_singular(A, b, verbose=False)\n",
    "    times.append((datetime.now() - time).total_seconds())\n",
    "    if not np.all(solver.matvec(A, x_) == b):\n",
    "        print(\"Fail!\")\n",
    "        break\n",
    "    iterations.append(solver.k)"
   ]
  },
  {
   "cell_type": "code",
   "execution_count": 29,
   "id": "3756b6cf",
   "metadata": {},
   "outputs": [
    {
     "name": "stdout",
     "output_type": "stream",
     "text": [
      "[2, 1, 1, 1, 1, 3, 1, 1, 1, 1]\n",
      "1.3\n",
      "4.349\n"
     ]
    }
   ],
   "source": [
    "print(iterations)\n",
    "print(sum(iterations) / 10)\n",
    "print(round(sum(times) / 10, 3))"
   ]
  },
  {
   "cell_type": "markdown",
   "id": "e6bfc21c",
   "metadata": {},
   "source": [
    "### Density = 0.3"
   ]
  },
  {
   "cell_type": "code",
   "execution_count": 30,
   "id": "b3253199",
   "metadata": {},
   "outputs": [
    {
     "name": "stderr",
     "output_type": "stream",
     "text": [
      "100%|██████████| 10/10 [00:30<00:00,  3.09s/it]\n"
     ]
    }
   ],
   "source": [
    "n = 1000\n",
    "m = 100\n",
    "density = 0.3\n",
    "iterations = []\n",
    "times = []\n",
    "for _ in tqdm(range(epochs)):\n",
    "    M = generate_sparse_matrix(n, m, density)\n",
    "    A = M @ M.T\n",
    "    x = field.Random(A.shape[1])\n",
    "    b = solver.matvec(A, x)\n",
    "    time = datetime.now()\n",
    "    x_, _ = solver.wiedeman_singular(A, b, verbose=False)\n",
    "    times.append((datetime.now() - time).total_seconds())\n",
    "    if not np.all(solver.matvec(A, x_) == b):\n",
    "        print(\"Fail!\")\n",
    "        break\n",
    "    iterations.append(solver.k)"
   ]
  },
  {
   "cell_type": "code",
   "execution_count": 31,
   "id": "a629cbba",
   "metadata": {},
   "outputs": [
    {
     "name": "stdout",
     "output_type": "stream",
     "text": [
      "[1, 1, 1, 1, 1, 3, 2, 1, 1, 2]\n",
      "1.4\n",
      "3.065\n"
     ]
    }
   ],
   "source": [
    "print(iterations)\n",
    "print(sum(iterations) / 10)\n",
    "print(round(sum(times) / 10, 3))"
   ]
  },
  {
   "cell_type": "markdown",
   "id": "905e714d",
   "metadata": {},
   "source": [
    "### Density = 0.1"
   ]
  },
  {
   "cell_type": "code",
   "execution_count": 32,
   "id": "233de99b",
   "metadata": {},
   "outputs": [
    {
     "name": "stderr",
     "output_type": "stream",
     "text": [
      "100%|██████████| 10/10 [00:10<00:00,  1.03s/it]\n"
     ]
    }
   ],
   "source": [
    "n = 1000\n",
    "m = 100\n",
    "density = 0.1\n",
    "iterations = []\n",
    "times = []\n",
    "for _ in tqdm(range(epochs)):\n",
    "    M = generate_sparse_matrix(n, m, density)\n",
    "    A = M @ M.T\n",
    "    x = field.Random(A.shape[1])\n",
    "    b = solver.matvec(A, x)\n",
    "    time = datetime.now()\n",
    "    x_, _ = solver.wiedeman_singular(A, b, verbose=False)\n",
    "    times.append((datetime.now() - time).total_seconds())\n",
    "    if not np.all(solver.matvec(A, x_) == b):\n",
    "        print(\"Fail!\")\n",
    "        break\n",
    "    iterations.append(solver.k)"
   ]
  },
  {
   "cell_type": "code",
   "execution_count": 33,
   "id": "3e4fed9a",
   "metadata": {},
   "outputs": [
    {
     "name": "stdout",
     "output_type": "stream",
     "text": [
      "[1, 1, 1, 1, 1, 1, 1, 1, 1, 1]\n",
      "1.0\n",
      "1.019\n"
     ]
    }
   ],
   "source": [
    "print(iterations)\n",
    "print(sum(iterations) / 10)\n",
    "print(round(sum(times) / 10, 3))"
   ]
  }
 ],
 "metadata": {
  "kernelspec": {
   "display_name": "sparse_la",
   "language": "python",
   "name": "python3"
  },
  "language_info": {
   "codemirror_mode": {
    "name": "ipython",
    "version": 3
   },
   "file_extension": ".py",
   "mimetype": "text/x-python",
   "name": "python",
   "nbconvert_exporter": "python",
   "pygments_lexer": "ipython3",
   "version": "3.12.11"
  }
 },
 "nbformat": 4,
 "nbformat_minor": 5
}
